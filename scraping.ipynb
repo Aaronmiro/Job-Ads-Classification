{
 "cells": [
  {
   "cell_type": "code",
   "execution_count": 5,
   "id": "f75a7ef6",
   "metadata": {},
   "outputs": [],
   "source": [
    "from selenium import webdriver\n",
    "from selenium.webdriver.support.ui import WebDriverWait\n",
    "from selenium.webdriver.support import expected_conditions as EC\n",
    "from selenium.webdriver.common.by import By\n",
    "import re, time, csv\n",
    "from selenium.common.exceptions import NoSuchElementException\n",
    "from selenium.webdriver.chrome.service import Service\n",
    "from webdriver_manager.chrome import ChromeDriverManager"
   ]
  },
  {
   "cell_type": "code",
   "execution_count": 10,
   "id": "c7a7f963",
   "metadata": {},
   "outputs": [],
   "source": [
    "# the scrape function\n",
    "def scrape(initUrl, num, fileName, mode, title): \n",
    "    outpath = fileName + '.csv' # get output path\n",
    "    fw = open(outpath, mode, encoding='utf8') # open the file\n",
    "    writer = csv.writer(fw, lineterminator='\\n')\n",
    "    writer.writerow(['text','job title']) # write headers firstly\n",
    "    \n",
    "    # avoid robot detection of anti spider on the Indeed website\n",
    "    options = webdriver.ChromeOptions()\n",
    "    options.add_argument(\"--disable-blink-features\")\n",
    "    options.add_argument(\"--disable-blink-features=AutomationControlled\")\n",
    "    options.add_experimental_option('excludeSwitches', ['enable-automation'])\n",
    "    options.add_experimental_option('useAutomationExtension', False)\n",
    "    # add user-agent\n",
    "    options.add_argument('user-agent=Mozilla/5.0')\n",
    "\n",
    "    driver = webdriver.Chrome(service=Service(ChromeDriverManager().install()),options=options)\n",
    "    driver.maximize_window()\n",
    "    \n",
    "    jobCountNum = 0\n",
    "    url = initUrl\n",
    "    links = []\n",
    "    errorCount = 0\n",
    "    \n",
    "    while True:       \n",
    "        driver.get(url)\n",
    "        # avoid requesting url too frequently\n",
    "        time.sleep(3)\n",
    "        \n",
    "        #scroll down\n",
    "        driver.execute_script('window,scrollTo(0,document.body.scrollHeight)')\n",
    "\n",
    "        try:\n",
    "            # get job links on current page\n",
    "            jobLinks = driver.find_elements(by=By.XPATH, value = '//a[contains(@class,\"tapItem\")]')\n",
    "        except:\n",
    "            print('unable get jobLinks on the current page')\n",
    "            jobLinks = None\n",
    "            errorCount += 1\n",
    "            if errorCount==10: return # quit the program\n",
    "            continue\n",
    "            \n",
    "        if len(jobLinks)==0:\n",
    "            print('jobLinks is empty, please run again')\n",
    "            errorCount += 1\n",
    "            if errorCount==3: return # quit the program\n",
    "            continue\n",
    "        \n",
    "        for jobLink in jobLinks: \n",
    "            print('job count number is: ', jobCountNum)\n",
    "            jobCountNum += 1\n",
    "            \n",
    "            # get one job link\n",
    "            link = jobLink.get_attribute(name=\"href\")\n",
    "            \n",
    "            if link and link!='':\n",
    "                links.append(link) # append link to the link list\n",
    "            else:\n",
    "                print('empty in job_title or link')\n",
    "                errorCount += 1\n",
    "                if errorCount==10: return # quit the program\n",
    "                continue\n",
    "                \n",
    "        try:\n",
    "            nextLinkBox = driver.find_element(by=By.XPATH, value='.//a[contains(@aria-label,\"Next\")]')\n",
    "        except:\n",
    "            print('unable get the next page link box')\n",
    "            break\n",
    "        \n",
    "        # get the next page link\n",
    "        urlLink = nextLinkBox.get_attribute(name=\"href\")\n",
    "        \n",
    "        print('next page link: ',urlLink)\n",
    "        if urlLink: url = urlLink\n",
    "        \n",
    "        print('current length of stored job links: ',len(links))\n",
    "        \n",
    "        if len(links) >= num:\n",
    "            break\n",
    "\n",
    "        # click the next page button\n",
    "        nextLinkBox.click()\n",
    "        \n",
    "    # traversal the stored links\n",
    "    for idx, link in enumerate(links):\n",
    "        \n",
    "        if idx>= num: break\n",
    "        \n",
    "        #initialize key attributes\n",
    "        text, job_title = 'NA','NA'\n",
    "        \n",
    "        print('current idx: ',idx)\n",
    "        \n",
    "        try:\n",
    "            driver.get(link)\n",
    "        except:\n",
    "            continue\n",
    "            \n",
    "        # avoid requesting url too frequently\n",
    "        time.sleep(3)\n",
    "        \n",
    "        #scroll down\n",
    "        driver.execute_script('window,scrollTo(0,document.body.scrollHeight)')\n",
    "        \n",
    "        try:\n",
    "            descriptionBox = driver.find_element(by=By.ID, value='jobDescriptionText')\n",
    "        except:\n",
    "            descriptionBox = None\n",
    "            print('unable get the current job description')\n",
    "        \n",
    "        # get the job description\n",
    "        if descriptionBox: \n",
    "            text = descriptionBox.text.replace('\\n',' ')\n",
    "            job_title = title\n",
    "        \n",
    "        writer.writerow([text, job_title])\n",
    "\n",
    "    print('program finished....')\n",
    "    fw.close() "
   ]
  },
  {
   "cell_type": "markdown",
   "id": "9bf1021c",
   "metadata": {},
   "source": [
    "## notation\n",
    "Because of the robot detection of anti spider mechanism on the Indeed website, we need to run scrape codes many times, we change URLs and the number many times in order to add all data to the final file"
   ]
  },
  {
   "cell_type": "code",
   "execution_count": 12,
   "id": "8c3420b5",
   "metadata": {},
   "outputs": [],
   "source": [
    "# need to change urls as needed\n",
    "sde_url = 'https://www.indeed.com/jobs?q=Software%20Engineer&l=California&vjk=28c2b38ed84e3b75'\n",
    "ds_url = 'https://www.indeed.com/jobs?q=data%20scientist&l=California&vjk=5ef83d01db120213'\n",
    "# sde_url = 'https://www.indeed.com/jobs?q=Software+Engineer&l=California&start=10'\n",
    "# ds_url = 'https://www.indeed.com/jobs?q=data+scientist&l=California&start=10'\n",
    "\n",
    "# define the number of jobs when scraping, do not set this number over 1000\n",
    "# because it may cause robot detection of anti spider and the program crash\n",
    "number = 500\n",
    "# number = 10\n",
    "sde_title = 'Software Engineer'\n",
    "ds_title = 'Data Scientist'"
   ]
  },
  {
   "cell_type": "code",
   "execution_count": null,
   "id": "7e681507",
   "metadata": {},
   "outputs": [],
   "source": []
  },
  {
   "cell_type": "markdown",
   "id": "e611c349",
   "metadata": {},
   "source": [
    "#### if it says 'jobLinks is empty', please re-execut above code again until we can see the message: 'job count number is:'\n",
    "#### message for 'program finished....' means we have scraped data successfully"
   ]
  },
  {
   "cell_type": "code",
   "execution_count": 8,
   "id": "90402dd9",
   "metadata": {
    "scrolled": true
   },
   "outputs": [
    {
     "name": "stderr",
     "output_type": "stream",
     "text": [
      "\n",
      "\n",
      "====== WebDriver manager ======\n",
      "Current google-chrome version is 101.0.4951\n",
      "Get LATEST chromedriver version for 101.0.4951 google-chrome\n",
      "Driver [/Users/aaron/.wdm/drivers/chromedriver/mac64/101.0.4951.41/chromedriver] found in cache\n"
     ]
    },
    {
     "name": "stdout",
     "output_type": "stream",
     "text": [
      "job count number is:  0\n",
      "job count number is:  1\n",
      "job count number is:  2\n",
      "job count number is:  3\n",
      "job count number is:  4\n",
      "job count number is:  5\n",
      "job count number is:  6\n",
      "job count number is:  7\n",
      "job count number is:  8\n",
      "job count number is:  9\n",
      "job count number is:  10\n",
      "job count number is:  11\n",
      "job count number is:  12\n",
      "job count number is:  13\n",
      "job count number is:  14\n",
      "next page link:  https://www.indeed.com/jobs?q=Software+Engineer&l=California&start=10\n",
      "current length of stored job links:  15\n",
      "current idx:  0\n",
      "current idx:  1\n",
      "current idx:  2\n",
      "current idx:  3\n",
      "current idx:  4\n",
      "current idx:  5\n",
      "current idx:  6\n",
      "current idx:  7\n",
      "current idx:  8\n",
      "current idx:  9\n",
      "program finished....\n"
     ]
    }
   ],
   "source": [
    "scrape(sde_url, number, 'training_set_new', 'a+', sde_title)"
   ]
  },
  {
   "cell_type": "code",
   "execution_count": 11,
   "id": "8b659af5",
   "metadata": {
    "scrolled": true
   },
   "outputs": [
    {
     "name": "stderr",
     "output_type": "stream",
     "text": [
      "\n",
      "\n",
      "====== WebDriver manager ======\n",
      "Current google-chrome version is 101.0.4951\n",
      "Get LATEST chromedriver version for 101.0.4951 google-chrome\n",
      "Driver [/Users/aaron/.wdm/drivers/chromedriver/mac64/101.0.4951.41/chromedriver] found in cache\n"
     ]
    },
    {
     "name": "stdout",
     "output_type": "stream",
     "text": [
      "job count number is:  0\n",
      "job count number is:  1\n",
      "job count number is:  2\n",
      "job count number is:  3\n",
      "job count number is:  4\n",
      "job count number is:  5\n",
      "job count number is:  6\n",
      "job count number is:  7\n",
      "job count number is:  8\n",
      "job count number is:  9\n",
      "job count number is:  10\n",
      "job count number is:  11\n",
      "job count number is:  12\n",
      "job count number is:  13\n",
      "job count number is:  14\n",
      "next page link:  https://www.indeed.com/jobs?q=data+scientist&l=California&start=10\n",
      "current length of stored job links:  15\n",
      "current idx:  0\n",
      "current idx:  1\n",
      "current idx:  2\n",
      "current idx:  3\n",
      "current idx:  4\n",
      "current idx:  5\n",
      "current idx:  6\n",
      "current idx:  7\n",
      "current idx:  8\n",
      "current idx:  9\n",
      "program finished....\n"
     ]
    }
   ],
   "source": [
    "scrape(ds_url, number, 'training_set_new', 'a+', ds_title)"
   ]
  },
  {
   "cell_type": "code",
   "execution_count": null,
   "id": "4e70a567",
   "metadata": {},
   "outputs": [],
   "source": []
  }
 ],
 "metadata": {
  "kernelspec": {
   "display_name": "Python 3",
   "language": "python",
   "name": "python3"
  },
  "language_info": {
   "codemirror_mode": {
    "name": "ipython",
    "version": 3
   },
   "file_extension": ".py",
   "mimetype": "text/x-python",
   "name": "python",
   "nbconvert_exporter": "python",
   "pygments_lexer": "ipython3",
   "version": "3.8.8"
  }
 },
 "nbformat": 4,
 "nbformat_minor": 5
}
