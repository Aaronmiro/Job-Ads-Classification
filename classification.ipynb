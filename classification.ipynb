{
 "cells": [
  {
   "cell_type": "code",
   "execution_count": 1,
   "id": "6bba10b9",
   "metadata": {},
   "outputs": [],
   "source": [
    "from sklearn.feature_extraction.text import CountVectorizer\n",
    "from sklearn.metrics import accuracy_score\n",
    "from nltk.corpus import stopwords\n",
    "from sklearn.model_selection import GridSearchCV\n",
    "from sklearn.ensemble import VotingClassifier\n",
    "from sklearn.linear_model import LogisticRegression\n",
    "from sklearn.ensemble import RandomForestClassifier\n",
    "from sklearn.ensemble import AdaBoostClassifier\n",
    "from sklearn.linear_model import SGDClassifier\n",
    "from sklearn.ensemble import GradientBoostingClassifier\n",
    "from sklearn.tree import DecisionTreeClassifier\n",
    "from sklearn.neighbors import KNeighborsClassifier\n",
    "import csv\n",
    "from csv import reader"
   ]
  },
  {
   "cell_type": "code",
   "execution_count": 2,
   "id": "6bcba306",
   "metadata": {},
   "outputs": [],
   "source": [
    "# load training dataset function\n",
    "def loadData(fname):\n",
    "    text=[]\n",
    "    title=[]\n",
    "    f= open(fname, encoding='utf8', errors=\"ignore\")\n",
    "    csv_reader = reader(f)\n",
    "    \n",
    "    for line in csv_reader:\n",
    "        if line[0] != 'text' and line[0] != 'NA':\n",
    "            job_text = line[0]\n",
    "            job_text = job_text.strip().replace('\\\\n',' ')\n",
    "            job_title = line[1]\n",
    "            text.append(job_text.lower())\n",
    "            title.append(job_title)\n",
    "    f.close()\n",
    "    return text,title\n",
    "\n",
    "# load testing dataset function\n",
    "def loadTest(fname):\n",
    "    text=[]\n",
    "    f= open(fname, encoding='utf8', errors=\"ignore\")\n",
    "    for line in f:   \n",
    "        if len(line) > 20:\n",
    "            job_text = line.strip().replace('\\n',' ')\n",
    "            text.append(job_text.lower())\n",
    "    f.close()\n",
    "    return text"
   ]
  },
  {
   "cell_type": "code",
   "execution_count": 4,
   "id": "ad011d21",
   "metadata": {
    "scrolled": true
   },
   "outputs": [
    {
     "data": {
      "text/plain": [
       "CountVectorizer(stop_words=['i', 'me', 'my', 'myself', 'we', 'our', 'ours',\n",
       "                            'ourselves', 'you', \"you're\", \"you've\", \"you'll\",\n",
       "                            \"you'd\", 'your', 'yours', 'yourself', 'yourselves',\n",
       "                            'he', 'him', 'his', 'himself', 'she', \"she's\",\n",
       "                            'her', 'hers', 'herself', 'it', \"it's\", 'its',\n",
       "                            'itself', ...])"
      ]
     },
     "execution_count": 4,
     "metadata": {},
     "output_type": "execute_result"
    }
   ],
   "source": [
    "##### train the model by the training dataset generated before\n",
    "train_text,train_title = loadData('training_set.csv')\n",
    "#Build a counter based on the training dataset\n",
    "counter = CountVectorizer(stop_words=stopwords.words('english'))\n",
    "counter.fit(train_text)"
   ]
  },
  {
   "cell_type": "code",
   "execution_count": 5,
   "id": "fe03cda1",
   "metadata": {},
   "outputs": [
    {
     "data": {
      "text/plain": [
       "VotingClassifier(estimators=[('nb', DecisionTreeClassifier()),\n",
       "                             ('dt', KNeighborsClassifier()),\n",
       "                             ('lreg', LogisticRegression(solver='liblinear'))])"
      ]
     },
     "execution_count": 5,
     "metadata": {},
     "output_type": "execute_result"
    }
   ],
   "source": [
    "#count the number of times each term appears in a document and transform each doc into a count vector\n",
    "counts_train = counter.transform(train_text)#transform the training data\n",
    "#train the classifier\n",
    "model1 = DecisionTreeClassifier()\n",
    "model2 = KNeighborsClassifier()\n",
    "model3 = LogisticRegression(solver='liblinear')\n",
    "predictors=[('nb',model1),('dt',model2),('lreg',model3)]\n",
    "VT=VotingClassifier(predictors)\n",
    "#train all classifier on the same datasets\n",
    "VT.fit(counts_train,train_title)"
   ]
  },
  {
   "cell_type": "markdown",
   "id": "c71962cd",
   "metadata": {},
   "source": [
    "## Notice\n",
    "### load the testing data hear, could change the file name"
   ]
  },
  {
   "cell_type": "code",
   "execution_count": 6,
   "id": "a00e0e5e",
   "metadata": {},
   "outputs": [],
   "source": [
    "#### load the testing data, could change the file name here!\n",
    "test_text=loadTest('test.csv')"
   ]
  },
  {
   "cell_type": "code",
   "execution_count": 7,
   "id": "f1ac1f59",
   "metadata": {},
   "outputs": [],
   "source": [
    "counts_test = counter.transform(test_text)#transform the testing data\n",
    "#use hard voting to predict (majority voting)\n",
    "pred=VT.predict(counts_test)\n",
    "# convert to list\n",
    "pred_title = pred.tolist()\n",
    "\n",
    "def writecsv(outpath): \n",
    "    fw=open(outpath,'w',encoding='utf8')\n",
    "    writer=csv.writer(fw,lineterminator='\\n')\n",
    "    writer.writerow(['text','title'])\n",
    "    \n",
    "    for i in range(len(test_text)):\n",
    "        text = test_text[i]\n",
    "        title = pred_title[i]\n",
    "        #text\n",
    "        writer.writerow([text,title])\n",
    "    fw.close()\n",
    "#### generate a new csv file including text and job title columns\n",
    "outpath = 'pred_result.csv'\n",
    "writecsv(outpath)"
   ]
  },
  {
   "cell_type": "markdown",
   "id": "cc21b54a",
   "metadata": {},
   "source": [
    "### have generated the pred_result file under the same dict"
   ]
  },
  {
   "cell_type": "code",
   "execution_count": null,
   "id": "6008106e",
   "metadata": {},
   "outputs": [],
   "source": []
  }
 ],
 "metadata": {
  "kernelspec": {
   "display_name": "Python 3",
   "language": "python",
   "name": "python3"
  },
  "language_info": {
   "codemirror_mode": {
    "name": "ipython",
    "version": 3
   },
   "file_extension": ".py",
   "mimetype": "text/x-python",
   "name": "python",
   "nbconvert_exporter": "python",
   "pygments_lexer": "ipython3",
   "version": "3.8.8"
  }
 },
 "nbformat": 4,
 "nbformat_minor": 5
}
